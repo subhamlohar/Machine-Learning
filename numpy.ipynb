{
  "nbformat": 4,
  "nbformat_minor": 0,
  "metadata": {
    "colab": {
      "name": "numpy.ipynb",
      "provenance": [],
      "collapsed_sections": []
    },
    "kernelspec": {
      "name": "python3",
      "display_name": "Python 3"
    },
    "language_info": {
      "name": "python"
    }
  },
  "cells": [
    {
      "cell_type": "code",
      "metadata": {
        "id": "wg2TZ38S80rs"
      },
      "source": [
        "import numpy as np"
      ],
      "execution_count": null,
      "outputs": []
    },
    {
      "cell_type": "markdown",
      "metadata": {
        "id": "CdAVzKid9FRw"
      },
      "source": [
        "List vs Numpy-Time taken"
      ]
    },
    {
      "cell_type": "code",
      "metadata": {
        "id": "0Kw8Yej09PdP"
      },
      "source": [
        "from time import process_time"
      ],
      "execution_count": null,
      "outputs": []
    },
    {
      "cell_type": "markdown",
      "metadata": {
        "id": "WG0EFGer9Zav"
      },
      "source": [
        "Time taken by list"
      ]
    },
    {
      "cell_type": "code",
      "metadata": {
        "colab": {
          "base_uri": "https://localhost:8080/"
        },
        "id": "8RFcT9d19eBM",
        "outputId": "1f2e709b-f602-4d45-e1ac-b0ec7e6e1f10"
      },
      "source": [
        "python_list=[i for i in range(10000)]\n",
        "\n",
        "start_time = process_time()\n",
        "\n",
        "python_list=[i+5 for i in python_list]\n",
        "\n",
        "end_time=process_time()\n",
        "\n",
        "print(end_time - start_time)"
      ],
      "execution_count": null,
      "outputs": [
        {
          "output_type": "stream",
          "name": "stdout",
          "text": [
            "0.001383084000000423\n"
          ]
        }
      ]
    },
    {
      "cell_type": "markdown",
      "metadata": {
        "id": "F25e82p_I3DM"
      },
      "source": [
        "Time taken by numpy array"
      ]
    },
    {
      "cell_type": "code",
      "metadata": {
        "colab": {
          "base_uri": "https://localhost:8080/"
        },
        "id": "jMnu6Q4VA9wu",
        "outputId": "5c8d78ce-9fd9-47b5-927f-607727ae63f3"
      },
      "source": [
        "np_array=np.array([i for i in range(10000)])\n",
        "\n",
        "start_time=process_time()\n",
        "\n",
        "np_array += 5\n",
        "\n",
        "end_time = process_time()\n",
        "\n",
        "print(end_time - start_time)"
      ],
      "execution_count": null,
      "outputs": [
        {
          "output_type": "stream",
          "name": "stdout",
          "text": [
            "0.00020487200000118833\n"
          ]
        }
      ]
    },
    {
      "cell_type": "markdown",
      "metadata": {
        "id": "Exk38YPYCf1j"
      },
      "source": [
        "Numpy array"
      ]
    },
    {
      "cell_type": "code",
      "metadata": {
        "colab": {
          "base_uri": "https://localhost:8080/"
        },
        "id": "XnpKMnayBJ_6",
        "outputId": "ef72d423-2732-465f-def9-7cb31b79d4b3"
      },
      "source": [
        "#List\n",
        "list1=[1,2,3,4,5]\n",
        "print(list1)\n",
        "type(list1)"
      ],
      "execution_count": null,
      "outputs": [
        {
          "output_type": "stream",
          "name": "stdout",
          "text": [
            "[1, 2, 3, 4, 5]\n"
          ]
        },
        {
          "output_type": "execute_result",
          "data": {
            "text/plain": [
              "list"
            ]
          },
          "metadata": {},
          "execution_count": 26
        }
      ]
    },
    {
      "cell_type": "code",
      "metadata": {
        "colab": {
          "base_uri": "https://localhost:8080/"
        },
        "id": "Gth2Wuy1IjTK",
        "outputId": "e5a6a99e-6831-4db8-8571-3a3ce224632e"
      },
      "source": [
        "np_array=np.array([1,2,3,4,5])\n",
        "print(np_array)\n",
        "type(np_array)"
      ],
      "execution_count": null,
      "outputs": [
        {
          "output_type": "stream",
          "name": "stdout",
          "text": [
            "[1 2 3 4 5]\n"
          ]
        },
        {
          "output_type": "execute_result",
          "data": {
            "text/plain": [
              "numpy.ndarray"
            ]
          },
          "metadata": {},
          "execution_count": 28
        }
      ]
    },
    {
      "cell_type": "code",
      "metadata": {
        "colab": {
          "base_uri": "https://localhost:8080/"
        },
        "id": "1GByENyQI_WI",
        "outputId": "b045afc2-7d0a-44e2-f909-8efa707c2989"
      },
      "source": [
        "#creating 1-D array\n",
        "a=np.array([1,2,3,4])\n",
        "print(a)"
      ],
      "execution_count": null,
      "outputs": [
        {
          "output_type": "stream",
          "name": "stdout",
          "text": [
            "[1 2 3 4]\n"
          ]
        }
      ]
    },
    {
      "cell_type": "code",
      "metadata": {
        "colab": {
          "base_uri": "https://localhost:8080/"
        },
        "id": "FkUDtNH2JWA2",
        "outputId": "fa33bc4e-6052-4871-e1b0-5ee802abbda9"
      },
      "source": [
        "a.shape"
      ],
      "execution_count": null,
      "outputs": [
        {
          "output_type": "execute_result",
          "data": {
            "text/plain": [
              "(4,)"
            ]
          },
          "metadata": {},
          "execution_count": 32
        }
      ]
    },
    {
      "cell_type": "code",
      "metadata": {
        "colab": {
          "base_uri": "https://localhost:8080/"
        },
        "id": "UTBaAsv9JcRl",
        "outputId": "e82b0d84-cbb1-4537-a673-d1d026ee72d9"
      },
      "source": [
        "#2-D array\n",
        "b=np.array([[1,2,3,4],[5,6,7,8]])\n",
        "print(b)\n",
        "type(b)"
      ],
      "execution_count": null,
      "outputs": [
        {
          "output_type": "stream",
          "name": "stdout",
          "text": [
            "[[1 2 3 4]\n",
            " [5 6 7 8]]\n"
          ]
        },
        {
          "output_type": "execute_result",
          "data": {
            "text/plain": [
              "(2, 4)"
            ]
          },
          "metadata": {},
          "execution_count": 75
        }
      ]
    },
    {
      "cell_type": "code",
      "metadata": {
        "colab": {
          "base_uri": "https://localhost:8080/"
        },
        "id": "CcLSeM2RJkjY",
        "outputId": "3e916086-bf58-43d3-a7ac-eba4649e200f"
      },
      "source": [
        "b.shape"
      ],
      "execution_count": null,
      "outputs": [
        {
          "output_type": "execute_result",
          "data": {
            "text/plain": [
              "(2, 4)"
            ]
          },
          "metadata": {},
          "execution_count": 36
        }
      ]
    },
    {
      "cell_type": "code",
      "metadata": {
        "colab": {
          "base_uri": "https://localhost:8080/"
        },
        "id": "YbDlk574JvhM",
        "outputId": "9651979b-0e5e-429f-9a5a-f4d7f3801ba1"
      },
      "source": [
        "c=np.array([(1,2,3,4),(5,6,7,8)],dtype=float)\n",
        "print(c)"
      ],
      "execution_count": null,
      "outputs": [
        {
          "output_type": "stream",
          "name": "stdout",
          "text": [
            "[[1. 2. 3. 4.]\n",
            " [5. 6. 7. 8.]]\n"
          ]
        }
      ]
    },
    {
      "cell_type": "markdown",
      "metadata": {
        "id": "gd2fVYm-LLbK"
      },
      "source": [
        "Initial Placeholders in numpy array"
      ]
    },
    {
      "cell_type": "code",
      "metadata": {
        "colab": {
          "base_uri": "https://localhost:8080/"
        },
        "id": "24235IklKuK2",
        "outputId": "683ef1e8-2586-4371-f894-c47e7dd7ece7"
      },
      "source": [
        "#array of zero values\n",
        "a=np.zeros((4,5))\n",
        "print(a)"
      ],
      "execution_count": null,
      "outputs": [
        {
          "output_type": "stream",
          "name": "stdout",
          "text": [
            "[[0. 0. 0. 0. 0.]\n",
            " [0. 0. 0. 0. 0.]\n",
            " [0. 0. 0. 0. 0.]\n",
            " [0. 0. 0. 0. 0.]]\n"
          ]
        }
      ]
    },
    {
      "cell_type": "code",
      "metadata": {
        "colab": {
          "base_uri": "https://localhost:8080/"
        },
        "id": "05m0FkKZMN53",
        "outputId": "b7a28148-0260-4af0-eaeb-7c977d796a83"
      },
      "source": [
        "#array of ones\n",
        "b=np.ones((3,4))\n",
        "print(b)"
      ],
      "execution_count": null,
      "outputs": [
        {
          "output_type": "stream",
          "name": "stdout",
          "text": [
            "[[1. 1. 1. 1.]\n",
            " [1. 1. 1. 1.]\n",
            " [1. 1. 1. 1.]]\n"
          ]
        }
      ]
    },
    {
      "cell_type": "code",
      "metadata": {
        "colab": {
          "base_uri": "https://localhost:8080/"
        },
        "id": "mRHrovX7Ma4J",
        "outputId": "37039b3a-00ff-4557-d962-46a62273bb46"
      },
      "source": [
        "#array of particular value\n",
        "c=np.full((4,6),5)\n",
        "print(c)"
      ],
      "execution_count": null,
      "outputs": [
        {
          "output_type": "stream",
          "name": "stdout",
          "text": [
            "[[5 5 5 5 5 5]\n",
            " [5 5 5 5 5 5]\n",
            " [5 5 5 5 5 5]\n",
            " [5 5 5 5 5 5]]\n"
          ]
        }
      ]
    },
    {
      "cell_type": "code",
      "metadata": {
        "colab": {
          "base_uri": "https://localhost:8080/"
        },
        "id": "Bu3OF-wPMrsU",
        "outputId": "15e79949-1713-473e-c14c-ccbfbee9aa6b"
      },
      "source": [
        "#create an identity matrix\n",
        "a =np.eye(4)\n",
        "print(a)"
      ],
      "execution_count": null,
      "outputs": [
        {
          "output_type": "stream",
          "name": "stdout",
          "text": [
            "[[1. 0. 0. 0.]\n",
            " [0. 1. 0. 0.]\n",
            " [0. 0. 1. 0.]\n",
            " [0. 0. 0. 1.]]\n"
          ]
        }
      ]
    },
    {
      "cell_type": "code",
      "metadata": {
        "colab": {
          "base_uri": "https://localhost:8080/"
        },
        "id": "p07ffXtSNGRU",
        "outputId": "610bbe81-f15c-4cd9-f8b5-70128aa50107"
      },
      "source": [
        "#create numpy array with random values\n",
        "r=np.random.random((3,4))\n",
        "print(r)\n"
      ],
      "execution_count": null,
      "outputs": [
        {
          "output_type": "stream",
          "name": "stdout",
          "text": [
            "[[0.60221351 0.67548329 0.78491049 0.59578064]\n",
            " [0.94825171 0.90349387 0.37665954 0.24512331]\n",
            " [0.88391185 0.14131873 0.04515332 0.35427619]]\n"
          ]
        }
      ]
    },
    {
      "cell_type": "code",
      "metadata": {
        "colab": {
          "base_uri": "https://localhost:8080/"
        },
        "id": "zEnEO3QWNknx",
        "outputId": "bafc8c64-c766-4f14-c555-657f455f3e77"
      },
      "source": [
        "#random integer values array within a specific range\n",
        "c=np.random.randint(10,100,(3,5))\n",
        "print(c)"
      ],
      "execution_count": null,
      "outputs": [
        {
          "output_type": "stream",
          "name": "stdout",
          "text": [
            "[[93 20 45 65 82]\n",
            " [44 49 53 76 74]\n",
            " [16 83 25 48 15]]\n"
          ]
        }
      ]
    },
    {
      "cell_type": "code",
      "metadata": {
        "colab": {
          "base_uri": "https://localhost:8080/"
        },
        "id": "76-QXEHZOMra",
        "outputId": "e7e46b18-4617-465f-c1bd-8e41958fb871"
      },
      "source": [
        "#array of evenly spaced values-->specifying the number of values required\n",
        "d=np.linspace(10,30,3)\n",
        "print(d)"
      ],
      "execution_count": null,
      "outputs": [
        {
          "output_type": "stream",
          "name": "stdout",
          "text": [
            "[10. 20. 30.]\n"
          ]
        }
      ]
    },
    {
      "cell_type": "code",
      "metadata": {
        "colab": {
          "base_uri": "https://localhost:8080/"
        },
        "id": "k1d_S69SP4OT",
        "outputId": "4c267a70-5c2a-486d-cd30-6e4328f0b245"
      },
      "source": [
        "#array of evenly spaced values-->specifying the step\n",
        "e=np.arange(10,30,5)\n",
        "print(e)"
      ],
      "execution_count": null,
      "outputs": [
        {
          "output_type": "stream",
          "name": "stdout",
          "text": [
            "[10 15 20 25]\n"
          ]
        }
      ]
    },
    {
      "cell_type": "code",
      "metadata": {
        "colab": {
          "base_uri": "https://localhost:8080/"
        },
        "id": "5Eq0_63MR8t1",
        "outputId": "6af56bcf-2ae2-41ff-c73a-74ecfddf0ab1"
      },
      "source": [
        "#convert a list to a numpy array\n",
        "list2=[1,2,3,4,5]\n",
        "\n",
        "np_array=np.asarray(list2)\n",
        "print(np_array)\n",
        "type(np_array)"
      ],
      "execution_count": null,
      "outputs": [
        {
          "output_type": "stream",
          "name": "stdout",
          "text": [
            "[1 2 3 4 5]\n",
            "[1, 2, 3, 4, 5]\n"
          ]
        },
        {
          "output_type": "execute_result",
          "data": {
            "text/plain": [
              "numpy.ndarray"
            ]
          },
          "metadata": {},
          "execution_count": 71
        }
      ]
    },
    {
      "cell_type": "markdown",
      "metadata": {
        "id": "CXZtsohUXnMQ"
      },
      "source": [
        "Analysing a numpy array"
      ]
    },
    {
      "cell_type": "code",
      "metadata": {
        "colab": {
          "base_uri": "https://localhost:8080/"
        },
        "id": "ym6hYsXbXr83",
        "outputId": "065cac79-66cf-4a62-b722-6eff65086e7b"
      },
      "source": [
        "c=np.random.randint(10,90,(5,5))\n",
        "print(c)"
      ],
      "execution_count": null,
      "outputs": [
        {
          "output_type": "stream",
          "name": "stdout",
          "text": [
            "[[79 44 27 40 14]\n",
            " [86 60 40 31 53]\n",
            " [57 72 20 82 84]\n",
            " [14 21 28 83 61]\n",
            " [23 68 50 27 59]]\n"
          ]
        }
      ]
    },
    {
      "cell_type": "code",
      "metadata": {
        "colab": {
          "base_uri": "https://localhost:8080/"
        },
        "id": "4nuNoV0TYjOg",
        "outputId": "3acde67a-3169-4451-9026-beb427f2f0be"
      },
      "source": [
        "#array dimension\n",
        "c.shape"
      ],
      "execution_count": null,
      "outputs": [
        {
          "output_type": "execute_result",
          "data": {
            "text/plain": [
              "(5, 5)"
            ]
          },
          "metadata": {},
          "execution_count": 80
        }
      ]
    },
    {
      "cell_type": "code",
      "metadata": {
        "colab": {
          "base_uri": "https://localhost:8080/"
        },
        "id": "aniB30cTYqKS",
        "outputId": "f75e9a92-4538-4776-c98b-ea9abb59905c"
      },
      "source": [
        "#number of dimensions\n",
        "c.ndim"
      ],
      "execution_count": null,
      "outputs": [
        {
          "output_type": "execute_result",
          "data": {
            "text/plain": [
              "2"
            ]
          },
          "metadata": {},
          "execution_count": 81
        }
      ]
    },
    {
      "cell_type": "code",
      "metadata": {
        "colab": {
          "base_uri": "https://localhost:8080/"
        },
        "id": "dlikNUCuY5XO",
        "outputId": "34c7f0a6-460c-4509-d31b-c288bcbad6de"
      },
      "source": [
        "#number of elements in an array\n",
        "c.size"
      ],
      "execution_count": null,
      "outputs": [
        {
          "output_type": "execute_result",
          "data": {
            "text/plain": [
              "25"
            ]
          },
          "metadata": {},
          "execution_count": 82
        }
      ]
    },
    {
      "cell_type": "code",
      "metadata": {
        "colab": {
          "base_uri": "https://localhost:8080/"
        },
        "id": "jP2ffrKCZCtG",
        "outputId": "135af0a2-5a99-4978-8653-d0c34e3b1923"
      },
      "source": [
        "#checking the datatype of the values in the array\n",
        "print(c.dtype)"
      ],
      "execution_count": null,
      "outputs": [
        {
          "output_type": "stream",
          "name": "stdout",
          "text": [
            "int64\n"
          ]
        }
      ]
    },
    {
      "cell_type": "markdown",
      "metadata": {
        "id": "5z2pbSMvZv3R"
      },
      "source": [
        "**Mathematical operations on a np array**"
      ]
    },
    {
      "cell_type": "code",
      "metadata": {
        "colab": {
          "base_uri": "https://localhost:8080/"
        },
        "id": "iUrzwqx3Z4ka",
        "outputId": "be696426-f611-451f-8def-6b89df2c3926"
      },
      "source": [
        "list1=[1,2,3,4,5]\n",
        "list2=[6,7,8,9,10]\n",
        "\n",
        "print(list1+list2)  #comcatinate or joins two list"
      ],
      "execution_count": null,
      "outputs": [
        {
          "output_type": "stream",
          "name": "stdout",
          "text": [
            "[1, 2, 3, 4, 5, 6, 7, 8, 9, 10]\n"
          ]
        }
      ]
    },
    {
      "cell_type": "code",
      "metadata": {
        "colab": {
          "base_uri": "https://localhost:8080/"
        },
        "id": "QwQ20F-TaKCx",
        "outputId": "e3d9a9cf-03d9-4878-cc48-6c304c8d309c"
      },
      "source": [
        "a=np.random.randint(0,10,(3,3))\n",
        "b=np.random.randint(10,20,(3,3))\n",
        "\n",
        "print(a)\n",
        "print(b)\n"
      ],
      "execution_count": null,
      "outputs": [
        {
          "output_type": "stream",
          "name": "stdout",
          "text": [
            "[[3 1 8]\n",
            " [7 5 9]\n",
            " [7 8 7]]\n",
            "[[12 13 12]\n",
            " [16 10 15]\n",
            " [15 11 18]]\n"
          ]
        }
      ]
    },
    {
      "cell_type": "code",
      "metadata": {
        "colab": {
          "base_uri": "https://localhost:8080/"
        },
        "id": "Vsuqe64Galf8",
        "outputId": "1a40aeb0-bf4d-4f0f-d446-472ba43a42c9"
      },
      "source": [
        "print(a+b)\n",
        "print(a-b)\n",
        "print(a*b)\n",
        "print(a/b)"
      ],
      "execution_count": null,
      "outputs": [
        {
          "output_type": "stream",
          "name": "stdout",
          "text": [
            "[[15 14 20]\n",
            " [23 15 24]\n",
            " [22 19 25]]\n",
            "[[ -9 -12  -4]\n",
            " [ -9  -5  -6]\n",
            " [ -8  -3 -11]]\n",
            "[[ 36  13  96]\n",
            " [112  50 135]\n",
            " [105  88 126]]\n",
            "[[0.25       0.07692308 0.66666667]\n",
            " [0.4375     0.5        0.6       ]\n",
            " [0.46666667 0.72727273 0.38888889]]\n"
          ]
        }
      ]
    },
    {
      "cell_type": "code",
      "metadata": {
        "colab": {
          "base_uri": "https://localhost:8080/"
        },
        "id": "JNtMxJkeaqIt",
        "outputId": "55763431-558a-4340-9c83-451605031211"
      },
      "source": [
        "a=np.random.randint(0,10,(3,3))\n",
        "b=np.random.randint(10,20,(3,3))\n",
        "\n",
        "print(a)\n",
        "print(b)\n"
      ],
      "execution_count": null,
      "outputs": [
        {
          "output_type": "stream",
          "name": "stdout",
          "text": [
            "[[9 2 6]\n",
            " [2 0 7]\n",
            " [9 9 4]]\n",
            "[[14 16 19]\n",
            " [13 15 15]\n",
            " [11 10 19]]\n"
          ]
        }
      ]
    },
    {
      "cell_type": "code",
      "metadata": {
        "colab": {
          "base_uri": "https://localhost:8080/"
        },
        "id": "vdZdSQjMa-AV",
        "outputId": "fe2e507c-c8dd-4afb-dcd7-2fd6a5dcc13e"
      },
      "source": [
        "print(np.add(a,b))"
      ],
      "execution_count": null,
      "outputs": [
        {
          "output_type": "stream",
          "name": "stdout",
          "text": [
            "[[23 18 25]\n",
            " [15 15 22]\n",
            " [20 19 23]]\n"
          ]
        }
      ]
    },
    {
      "cell_type": "code",
      "metadata": {
        "colab": {
          "base_uri": "https://localhost:8080/"
        },
        "id": "W4Qx37WfbIYE",
        "outputId": "661229dc-b0d1-4129-d6bb-4260aecd5108"
      },
      "source": [
        "print(np.subtract(a,b))"
      ],
      "execution_count": null,
      "outputs": [
        {
          "output_type": "stream",
          "name": "stdout",
          "text": [
            "[[ -5 -14 -13]\n",
            " [-11 -15  -8]\n",
            " [ -2  -1 -15]]\n"
          ]
        }
      ]
    },
    {
      "cell_type": "code",
      "metadata": {
        "colab": {
          "base_uri": "https://localhost:8080/"
        },
        "id": "9satDWJVbZxt",
        "outputId": "26b036e5-2331-407d-af14-048b0b86c272"
      },
      "source": [
        "print(np.multiply(a,b))"
      ],
      "execution_count": null,
      "outputs": [
        {
          "output_type": "stream",
          "name": "stdout",
          "text": [
            "[[126  32 114]\n",
            " [ 26   0 105]\n",
            " [ 99  90  76]]\n"
          ]
        }
      ]
    },
    {
      "cell_type": "markdown",
      "metadata": {
        "id": "i-M8wRstcGaD"
      },
      "source": [
        "**Array Manipulation**"
      ]
    },
    {
      "cell_type": "code",
      "metadata": {
        "colab": {
          "base_uri": "https://localhost:8080/"
        },
        "id": "ySSqEWPtcMkh",
        "outputId": "32d89c06-f1a6-4f49-edf4-e31bdf39e452"
      },
      "source": [
        "array=np.random.randint(0,10,(2,3))\n",
        "print(array)\n",
        "print(array.shape)"
      ],
      "execution_count": null,
      "outputs": [
        {
          "output_type": "stream",
          "name": "stdout",
          "text": [
            "[[4 0 5]\n",
            " [6 5 2]]\n",
            "(2, 3)\n"
          ]
        }
      ]
    },
    {
      "cell_type": "code",
      "metadata": {
        "colab": {
          "base_uri": "https://localhost:8080/"
        },
        "id": "oo58BXdfctau",
        "outputId": "d2784113-e5c9-4aa7-b16a-eaa9e6f5420c"
      },
      "source": [
        "#transpose\n",
        "trans=np.transpose(array)\n",
        "\n",
        "print(trans)\n",
        "print(trans.shape)"
      ],
      "execution_count": null,
      "outputs": [
        {
          "output_type": "stream",
          "name": "stdout",
          "text": [
            "[[4 6]\n",
            " [0 5]\n",
            " [5 2]]\n",
            "(3, 2)\n"
          ]
        }
      ]
    },
    {
      "cell_type": "code",
      "metadata": {
        "colab": {
          "base_uri": "https://localhost:8080/"
        },
        "id": "yu8LvZ-xdAWW",
        "outputId": "185bcebd-576e-4506-d81a-520b1cfa5e7a"
      },
      "source": [
        "array=np.random.randint(0,10,(2,4))\n",
        "print(array)\n",
        "print(array.shape)"
      ],
      "execution_count": null,
      "outputs": [
        {
          "output_type": "stream",
          "name": "stdout",
          "text": [
            "[[0 2 3 5]\n",
            " [7 1 8 9]]\n",
            "(2, 4)\n"
          ]
        }
      ]
    },
    {
      "cell_type": "code",
      "metadata": {
        "colab": {
          "base_uri": "https://localhost:8080/"
        },
        "id": "VH-0BuHFdHit",
        "outputId": "cf32f4d6-ce71-423e-e7ab-be71591652eb"
      },
      "source": [
        "trans2=array.T\n",
        "print(trans2)\n",
        "print(trans2.shape)"
      ],
      "execution_count": null,
      "outputs": [
        {
          "output_type": "stream",
          "name": "stdout",
          "text": [
            "[[0 7]\n",
            " [2 1]\n",
            " [3 8]\n",
            " [5 9]]\n",
            "(4, 2)\n"
          ]
        }
      ]
    },
    {
      "cell_type": "code",
      "metadata": {
        "colab": {
          "base_uri": "https://localhost:8080/"
        },
        "id": "mSexeTubdScS",
        "outputId": "1ebebc0c-49dc-48bb-dde1-5e3dc7431d05"
      },
      "source": [
        "#reshaping an array\n",
        "a=np.random.randint(0,10,(2,3))\n",
        "print(a)\n",
        "print(a.shape)"
      ],
      "execution_count": null,
      "outputs": [
        {
          "output_type": "stream",
          "name": "stdout",
          "text": [
            "[[2 1 0]\n",
            " [2 6 5]]\n",
            "(2, 3)\n"
          ]
        }
      ]
    },
    {
      "cell_type": "code",
      "metadata": {
        "colab": {
          "base_uri": "https://localhost:8080/"
        },
        "id": "0q9gsdvoejMp",
        "outputId": "2a1adbbf-038e-4873-fb76-fcda134bb2bd"
      },
      "source": [
        "b=a.reshape(3,2)\n",
        "print(b)\n",
        "(b.shape)"
      ],
      "execution_count": null,
      "outputs": [
        {
          "output_type": "stream",
          "name": "stdout",
          "text": [
            "[[2 1]\n",
            " [0 2]\n",
            " [6 5]]\n"
          ]
        },
        {
          "output_type": "execute_result",
          "data": {
            "text/plain": [
              "(3, 2)"
            ]
          },
          "metadata": {},
          "execution_count": 113
        }
      ]
    },
    {
      "cell_type": "code",
      "metadata": {
        "id": "5Do3YCzFet-O"
      },
      "source": [
        ""
      ],
      "execution_count": null,
      "outputs": []
    }
  ]
}